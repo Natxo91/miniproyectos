{
 "cells": [
  {
   "cell_type": "code",
   "execution_count": 2,
   "metadata": {},
   "outputs": [
    {
     "name": "stdout",
     "output_type": "stream",
     "text": [
      "What number are you thinking\n",
      "7\n",
      "That's an odd number! Have another?\n",
      "n\n"
     ]
    }
   ],
   "source": [
    "#oddoreven\n",
    "print (\"What number are you thinking\")\n",
    "\n",
    "answer = 'y'\n",
    "\n",
    "while answer != 'n':\n",
    "\n",
    "    number = int(input())\n",
    "\n",
    "    if (number % 2) == 0:\n",
    "        print (\"That's an even number! Have another?\")\n",
    "    else:\n",
    "        print (\"That's an odd number! Have another?\")\n",
    "\n",
    "    answer = input()"
   ]
  },
  {
   "cell_type": "code",
   "execution_count": 9,
   "metadata": {},
   "outputs": [
    {
     "name": "stdout",
     "output_type": "stream",
     "text": [
      "what's on your mind today?\n",
      "hola, que buen dia hace\n",
      "oh nice, you just told me what's on your mind in 5 words!\n"
     ]
    }
   ],
   "source": [
    "#wordcounter\n",
    "print(\"what's on your mind today?\")\n",
    "\n",
    "answer = input()\n",
    "\n",
    "print(\"oh nice, you just told me what's on your mind in {} words!\".format(len(answer.split())))"
   ]
  },
  {
   "cell_type": "code",
   "execution_count": 1,
   "metadata": {},
   "outputs": [],
   "source": [
    "#calculate tip\n",
    "tip = 0.18"
   ]
  },
  {
   "cell_type": "code",
   "execution_count": 9,
   "metadata": {},
   "outputs": [],
   "source": [
    "import math\n",
    "def calculate_tip (bill):\n",
    "    return math.ceil(tip * bill)\n",
    "\n",
    "def calculate_bill_per_person (bill, people):\n",
    "    return bill / people"
   ]
  },
  {
   "cell_type": "code",
   "execution_count": 10,
   "metadata": {},
   "outputs": [
    {
     "name": "stdout",
     "output_type": "stream",
     "text": [
      "What's the total bill for today, please?\n",
      "52\n",
      "What's the number of people, please?\n",
      "5\n",
      "18.0% tip is , which brings your total to 62\n",
      "which is 12.4 per person\n"
     ]
    }
   ],
   "source": [
    "#calculate tip\n",
    "\n",
    "print (\"What's the total bill for today, please?\")\n",
    "\n",
    "bill = int(input ())\n",
    "\n",
    "print (\"What's the number of people, please?\")\n",
    "\n",
    "people = int(input ())\n",
    "\n",
    "total_bill = bill+calculate_tip(bill)\n",
    "\n",
    "print (\"{}% tip is , which brings your total to {}\".format(tip*100,total_bill ))\n",
    "\n",
    "print (\"which is {} per person\".format(calculate_bill_per_person(total_bill,people) ))\n"
   ]
  },
  {
   "cell_type": "code",
   "execution_count": 18,
   "metadata": {},
   "outputs": [],
   "source": [
    "popular_domains = {'gmail.com':'Google','yahoo.com':'Yahoo','outlook.com':'Microsoft'}"
   ]
  },
  {
   "cell_type": "code",
   "execution_count": 20,
   "metadata": {},
   "outputs": [
    {
     "name": "stdout",
     "output_type": "stream",
     "text": [
      "Please introduce your emailiglarra91@gmail.com\n",
      "Hey iglarra91, I see your email is registered with Google, that's cool!\n"
     ]
    }
   ],
   "source": [
    "#email sclicer\n",
    "\n",
    "email = input('Please introduce your email').strip()\n",
    "\n",
    "username = email[:email.index('@')]\n",
    "domain = email[email.index('@')+1:]\n",
    "\n",
    "check_domain(username,domain)"
   ]
  },
  {
   "cell_type": "code",
   "execution_count": 19,
   "metadata": {},
   "outputs": [],
   "source": [
    "def check_domain (username, domain):\n",
    "    if domain in popular_domains:\n",
    "        print (\"Hey {}, I see your email is registered with {}, that's cool!\".format(username,popular_domains[domain]))\n",
    "    else: \n",
    "        print (\"Hey {}, looks like you've got your own custom setup at {}. Impressive!\".format(username,domain))"
   ]
  },
  {
   "cell_type": "code",
   "execution_count": null,
   "metadata": {},
   "outputs": [],
   "source": []
  }
 ],
 "metadata": {
  "kernelspec": {
   "display_name": "Python 3",
   "language": "python",
   "name": "python3"
  },
  "language_info": {
   "codemirror_mode": {
    "name": "ipython",
    "version": 3
   },
   "file_extension": ".py",
   "mimetype": "text/x-python",
   "name": "python",
   "nbconvert_exporter": "python",
   "pygments_lexer": "ipython3",
   "version": "3.7.4"
  }
 },
 "nbformat": 4,
 "nbformat_minor": 2
}
